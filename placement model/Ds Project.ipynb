{
 "cells": [
  {
   "cell_type": "markdown",
   "metadata": {},
   "source": [
    "**Student Placement Model**"
   ]
  },
  {
   "cell_type": "markdown",
   "metadata": {},
   "source": [
    "**Importing models**\n",
    "\n",
    "\n",
    "Let us import the models to  be used for the project "
   ]
  },
  {
   "cell_type": "code",
   "execution_count": 1,
   "metadata": {},
   "outputs": [],
   "source": [
    "import warnings\n",
    "warnings.simplefilter(action='ignore', category=FutureWarning)\n",
    "\n",
    "import pandas as pd\n",
    "import numpy as np\n",
    "from collections import Counter\n",
    "from collections import OrderedDict\n",
    "\n",
    "import matplotlib.pyplot as plt\n",
    "import seaborn as sns\n",
    "\n",
    "\n",
    "from sklearn.model_selection import train_test_split\n",
    "from sklearn.linear_model import LinearRegression\n",
    "from math import sqrt\n",
    "from sklearn.metrics import mean_squared_error, r2_score\n",
    "from sklearn.model_selection import GridSearchCV\n",
    "from sklearn.tree import DecisionTreeRegressor\n",
    "from sklearn.metrics import mean_absolute_error\n",
    "from sklearn.ensemble import RandomForestClassifier\n",
    "from sklearn.preprocessing import LabelEncoder\n",
    "from sklearn.metrics import classification_report\n",
    "\n",
    "\n",
    "from tabulate import tabulate\n",
    "\n",
    "import statsmodels.api as sm\n",
    "from scipy import stats"
   ]
  },
  {
   "cell_type": "markdown",
   "metadata": {},
   "source": [
    "**2. Importing data**"
   ]
  },
  {
   "cell_type": "code",
   "execution_count": 2,
   "metadata": {},
   "outputs": [
    {
     "ename": "FileNotFoundError",
     "evalue": "[Errno 2] No such file or directory: 'Book1.csv'",
     "output_type": "error",
     "traceback": [
      "\u001b[1;31m---------------------------------------------------------------------------\u001b[0m",
      "\u001b[1;31mFileNotFoundError\u001b[0m                         Traceback (most recent call last)",
      "Cell \u001b[1;32mIn[2], line 2\u001b[0m\n\u001b[0;32m      1\u001b[0m \u001b[38;5;66;03m#reading the datasets\u001b[39;00m\n\u001b[1;32m----> 2\u001b[0m data1 \u001b[38;5;241m=\u001b[39m \u001b[43mpd\u001b[49m\u001b[38;5;241;43m.\u001b[39;49m\u001b[43mread_csv\u001b[49m\u001b[43m(\u001b[49m\u001b[38;5;124;43m\"\u001b[39;49m\u001b[38;5;124;43mBook1.csv\u001b[39;49m\u001b[38;5;124;43m\"\u001b[39;49m\u001b[43m)\u001b[49m\n\u001b[0;32m      3\u001b[0m data2 \u001b[38;5;241m=\u001b[39m pd\u001b[38;5;241m.\u001b[39mread_csv(\u001b[38;5;124m\"\u001b[39m\u001b[38;5;124mBook2.csv\u001b[39m\u001b[38;5;124m\"\u001b[39m)\n",
      "File \u001b[1;32mc:\\Users\\Administrator\\anaconda3\\Lib\\site-packages\\pandas\\io\\parsers\\readers.py:1026\u001b[0m, in \u001b[0;36mread_csv\u001b[1;34m(filepath_or_buffer, sep, delimiter, header, names, index_col, usecols, dtype, engine, converters, true_values, false_values, skipinitialspace, skiprows, skipfooter, nrows, na_values, keep_default_na, na_filter, verbose, skip_blank_lines, parse_dates, infer_datetime_format, keep_date_col, date_parser, date_format, dayfirst, cache_dates, iterator, chunksize, compression, thousands, decimal, lineterminator, quotechar, quoting, doublequote, escapechar, comment, encoding, encoding_errors, dialect, on_bad_lines, delim_whitespace, low_memory, memory_map, float_precision, storage_options, dtype_backend)\u001b[0m\n\u001b[0;32m   1013\u001b[0m kwds_defaults \u001b[38;5;241m=\u001b[39m _refine_defaults_read(\n\u001b[0;32m   1014\u001b[0m     dialect,\n\u001b[0;32m   1015\u001b[0m     delimiter,\n\u001b[1;32m   (...)\u001b[0m\n\u001b[0;32m   1022\u001b[0m     dtype_backend\u001b[38;5;241m=\u001b[39mdtype_backend,\n\u001b[0;32m   1023\u001b[0m )\n\u001b[0;32m   1024\u001b[0m kwds\u001b[38;5;241m.\u001b[39mupdate(kwds_defaults)\n\u001b[1;32m-> 1026\u001b[0m \u001b[38;5;28;01mreturn\u001b[39;00m \u001b[43m_read\u001b[49m\u001b[43m(\u001b[49m\u001b[43mfilepath_or_buffer\u001b[49m\u001b[43m,\u001b[49m\u001b[43m \u001b[49m\u001b[43mkwds\u001b[49m\u001b[43m)\u001b[49m\n",
      "File \u001b[1;32mc:\\Users\\Administrator\\anaconda3\\Lib\\site-packages\\pandas\\io\\parsers\\readers.py:620\u001b[0m, in \u001b[0;36m_read\u001b[1;34m(filepath_or_buffer, kwds)\u001b[0m\n\u001b[0;32m    617\u001b[0m _validate_names(kwds\u001b[38;5;241m.\u001b[39mget(\u001b[38;5;124m\"\u001b[39m\u001b[38;5;124mnames\u001b[39m\u001b[38;5;124m\"\u001b[39m, \u001b[38;5;28;01mNone\u001b[39;00m))\n\u001b[0;32m    619\u001b[0m \u001b[38;5;66;03m# Create the parser.\u001b[39;00m\n\u001b[1;32m--> 620\u001b[0m parser \u001b[38;5;241m=\u001b[39m \u001b[43mTextFileReader\u001b[49m\u001b[43m(\u001b[49m\u001b[43mfilepath_or_buffer\u001b[49m\u001b[43m,\u001b[49m\u001b[43m \u001b[49m\u001b[38;5;241;43m*\u001b[39;49m\u001b[38;5;241;43m*\u001b[39;49m\u001b[43mkwds\u001b[49m\u001b[43m)\u001b[49m\n\u001b[0;32m    622\u001b[0m \u001b[38;5;28;01mif\u001b[39;00m chunksize \u001b[38;5;129;01mor\u001b[39;00m iterator:\n\u001b[0;32m    623\u001b[0m     \u001b[38;5;28;01mreturn\u001b[39;00m parser\n",
      "File \u001b[1;32mc:\\Users\\Administrator\\anaconda3\\Lib\\site-packages\\pandas\\io\\parsers\\readers.py:1620\u001b[0m, in \u001b[0;36mTextFileReader.__init__\u001b[1;34m(self, f, engine, **kwds)\u001b[0m\n\u001b[0;32m   1617\u001b[0m     \u001b[38;5;28mself\u001b[39m\u001b[38;5;241m.\u001b[39moptions[\u001b[38;5;124m\"\u001b[39m\u001b[38;5;124mhas_index_names\u001b[39m\u001b[38;5;124m\"\u001b[39m] \u001b[38;5;241m=\u001b[39m kwds[\u001b[38;5;124m\"\u001b[39m\u001b[38;5;124mhas_index_names\u001b[39m\u001b[38;5;124m\"\u001b[39m]\n\u001b[0;32m   1619\u001b[0m \u001b[38;5;28mself\u001b[39m\u001b[38;5;241m.\u001b[39mhandles: IOHandles \u001b[38;5;241m|\u001b[39m \u001b[38;5;28;01mNone\u001b[39;00m \u001b[38;5;241m=\u001b[39m \u001b[38;5;28;01mNone\u001b[39;00m\n\u001b[1;32m-> 1620\u001b[0m \u001b[38;5;28mself\u001b[39m\u001b[38;5;241m.\u001b[39m_engine \u001b[38;5;241m=\u001b[39m \u001b[38;5;28;43mself\u001b[39;49m\u001b[38;5;241;43m.\u001b[39;49m\u001b[43m_make_engine\u001b[49m\u001b[43m(\u001b[49m\u001b[43mf\u001b[49m\u001b[43m,\u001b[49m\u001b[43m \u001b[49m\u001b[38;5;28;43mself\u001b[39;49m\u001b[38;5;241;43m.\u001b[39;49m\u001b[43mengine\u001b[49m\u001b[43m)\u001b[49m\n",
      "File \u001b[1;32mc:\\Users\\Administrator\\anaconda3\\Lib\\site-packages\\pandas\\io\\parsers\\readers.py:1880\u001b[0m, in \u001b[0;36mTextFileReader._make_engine\u001b[1;34m(self, f, engine)\u001b[0m\n\u001b[0;32m   1878\u001b[0m     \u001b[38;5;28;01mif\u001b[39;00m \u001b[38;5;124m\"\u001b[39m\u001b[38;5;124mb\u001b[39m\u001b[38;5;124m\"\u001b[39m \u001b[38;5;129;01mnot\u001b[39;00m \u001b[38;5;129;01min\u001b[39;00m mode:\n\u001b[0;32m   1879\u001b[0m         mode \u001b[38;5;241m+\u001b[39m\u001b[38;5;241m=\u001b[39m \u001b[38;5;124m\"\u001b[39m\u001b[38;5;124mb\u001b[39m\u001b[38;5;124m\"\u001b[39m\n\u001b[1;32m-> 1880\u001b[0m \u001b[38;5;28mself\u001b[39m\u001b[38;5;241m.\u001b[39mhandles \u001b[38;5;241m=\u001b[39m \u001b[43mget_handle\u001b[49m\u001b[43m(\u001b[49m\n\u001b[0;32m   1881\u001b[0m \u001b[43m    \u001b[49m\u001b[43mf\u001b[49m\u001b[43m,\u001b[49m\n\u001b[0;32m   1882\u001b[0m \u001b[43m    \u001b[49m\u001b[43mmode\u001b[49m\u001b[43m,\u001b[49m\n\u001b[0;32m   1883\u001b[0m \u001b[43m    \u001b[49m\u001b[43mencoding\u001b[49m\u001b[38;5;241;43m=\u001b[39;49m\u001b[38;5;28;43mself\u001b[39;49m\u001b[38;5;241;43m.\u001b[39;49m\u001b[43moptions\u001b[49m\u001b[38;5;241;43m.\u001b[39;49m\u001b[43mget\u001b[49m\u001b[43m(\u001b[49m\u001b[38;5;124;43m\"\u001b[39;49m\u001b[38;5;124;43mencoding\u001b[39;49m\u001b[38;5;124;43m\"\u001b[39;49m\u001b[43m,\u001b[49m\u001b[43m \u001b[49m\u001b[38;5;28;43;01mNone\u001b[39;49;00m\u001b[43m)\u001b[49m\u001b[43m,\u001b[49m\n\u001b[0;32m   1884\u001b[0m \u001b[43m    \u001b[49m\u001b[43mcompression\u001b[49m\u001b[38;5;241;43m=\u001b[39;49m\u001b[38;5;28;43mself\u001b[39;49m\u001b[38;5;241;43m.\u001b[39;49m\u001b[43moptions\u001b[49m\u001b[38;5;241;43m.\u001b[39;49m\u001b[43mget\u001b[49m\u001b[43m(\u001b[49m\u001b[38;5;124;43m\"\u001b[39;49m\u001b[38;5;124;43mcompression\u001b[39;49m\u001b[38;5;124;43m\"\u001b[39;49m\u001b[43m,\u001b[49m\u001b[43m \u001b[49m\u001b[38;5;28;43;01mNone\u001b[39;49;00m\u001b[43m)\u001b[49m\u001b[43m,\u001b[49m\n\u001b[0;32m   1885\u001b[0m \u001b[43m    \u001b[49m\u001b[43mmemory_map\u001b[49m\u001b[38;5;241;43m=\u001b[39;49m\u001b[38;5;28;43mself\u001b[39;49m\u001b[38;5;241;43m.\u001b[39;49m\u001b[43moptions\u001b[49m\u001b[38;5;241;43m.\u001b[39;49m\u001b[43mget\u001b[49m\u001b[43m(\u001b[49m\u001b[38;5;124;43m\"\u001b[39;49m\u001b[38;5;124;43mmemory_map\u001b[39;49m\u001b[38;5;124;43m\"\u001b[39;49m\u001b[43m,\u001b[49m\u001b[43m \u001b[49m\u001b[38;5;28;43;01mFalse\u001b[39;49;00m\u001b[43m)\u001b[49m\u001b[43m,\u001b[49m\n\u001b[0;32m   1886\u001b[0m \u001b[43m    \u001b[49m\u001b[43mis_text\u001b[49m\u001b[38;5;241;43m=\u001b[39;49m\u001b[43mis_text\u001b[49m\u001b[43m,\u001b[49m\n\u001b[0;32m   1887\u001b[0m \u001b[43m    \u001b[49m\u001b[43merrors\u001b[49m\u001b[38;5;241;43m=\u001b[39;49m\u001b[38;5;28;43mself\u001b[39;49m\u001b[38;5;241;43m.\u001b[39;49m\u001b[43moptions\u001b[49m\u001b[38;5;241;43m.\u001b[39;49m\u001b[43mget\u001b[49m\u001b[43m(\u001b[49m\u001b[38;5;124;43m\"\u001b[39;49m\u001b[38;5;124;43mencoding_errors\u001b[39;49m\u001b[38;5;124;43m\"\u001b[39;49m\u001b[43m,\u001b[49m\u001b[43m \u001b[49m\u001b[38;5;124;43m\"\u001b[39;49m\u001b[38;5;124;43mstrict\u001b[39;49m\u001b[38;5;124;43m\"\u001b[39;49m\u001b[43m)\u001b[49m\u001b[43m,\u001b[49m\n\u001b[0;32m   1888\u001b[0m \u001b[43m    \u001b[49m\u001b[43mstorage_options\u001b[49m\u001b[38;5;241;43m=\u001b[39;49m\u001b[38;5;28;43mself\u001b[39;49m\u001b[38;5;241;43m.\u001b[39;49m\u001b[43moptions\u001b[49m\u001b[38;5;241;43m.\u001b[39;49m\u001b[43mget\u001b[49m\u001b[43m(\u001b[49m\u001b[38;5;124;43m\"\u001b[39;49m\u001b[38;5;124;43mstorage_options\u001b[39;49m\u001b[38;5;124;43m\"\u001b[39;49m\u001b[43m,\u001b[49m\u001b[43m \u001b[49m\u001b[38;5;28;43;01mNone\u001b[39;49;00m\u001b[43m)\u001b[49m\u001b[43m,\u001b[49m\n\u001b[0;32m   1889\u001b[0m \u001b[43m\u001b[49m\u001b[43m)\u001b[49m\n\u001b[0;32m   1890\u001b[0m \u001b[38;5;28;01massert\u001b[39;00m \u001b[38;5;28mself\u001b[39m\u001b[38;5;241m.\u001b[39mhandles \u001b[38;5;129;01mis\u001b[39;00m \u001b[38;5;129;01mnot\u001b[39;00m \u001b[38;5;28;01mNone\u001b[39;00m\n\u001b[0;32m   1891\u001b[0m f \u001b[38;5;241m=\u001b[39m \u001b[38;5;28mself\u001b[39m\u001b[38;5;241m.\u001b[39mhandles\u001b[38;5;241m.\u001b[39mhandle\n",
      "File \u001b[1;32mc:\\Users\\Administrator\\anaconda3\\Lib\\site-packages\\pandas\\io\\common.py:873\u001b[0m, in \u001b[0;36mget_handle\u001b[1;34m(path_or_buf, mode, encoding, compression, memory_map, is_text, errors, storage_options)\u001b[0m\n\u001b[0;32m    868\u001b[0m \u001b[38;5;28;01melif\u001b[39;00m \u001b[38;5;28misinstance\u001b[39m(handle, \u001b[38;5;28mstr\u001b[39m):\n\u001b[0;32m    869\u001b[0m     \u001b[38;5;66;03m# Check whether the filename is to be opened in binary mode.\u001b[39;00m\n\u001b[0;32m    870\u001b[0m     \u001b[38;5;66;03m# Binary mode does not support 'encoding' and 'newline'.\u001b[39;00m\n\u001b[0;32m    871\u001b[0m     \u001b[38;5;28;01mif\u001b[39;00m ioargs\u001b[38;5;241m.\u001b[39mencoding \u001b[38;5;129;01mand\u001b[39;00m \u001b[38;5;124m\"\u001b[39m\u001b[38;5;124mb\u001b[39m\u001b[38;5;124m\"\u001b[39m \u001b[38;5;129;01mnot\u001b[39;00m \u001b[38;5;129;01min\u001b[39;00m ioargs\u001b[38;5;241m.\u001b[39mmode:\n\u001b[0;32m    872\u001b[0m         \u001b[38;5;66;03m# Encoding\u001b[39;00m\n\u001b[1;32m--> 873\u001b[0m         handle \u001b[38;5;241m=\u001b[39m \u001b[38;5;28;43mopen\u001b[39;49m\u001b[43m(\u001b[49m\n\u001b[0;32m    874\u001b[0m \u001b[43m            \u001b[49m\u001b[43mhandle\u001b[49m\u001b[43m,\u001b[49m\n\u001b[0;32m    875\u001b[0m \u001b[43m            \u001b[49m\u001b[43mioargs\u001b[49m\u001b[38;5;241;43m.\u001b[39;49m\u001b[43mmode\u001b[49m\u001b[43m,\u001b[49m\n\u001b[0;32m    876\u001b[0m \u001b[43m            \u001b[49m\u001b[43mencoding\u001b[49m\u001b[38;5;241;43m=\u001b[39;49m\u001b[43mioargs\u001b[49m\u001b[38;5;241;43m.\u001b[39;49m\u001b[43mencoding\u001b[49m\u001b[43m,\u001b[49m\n\u001b[0;32m    877\u001b[0m \u001b[43m            \u001b[49m\u001b[43merrors\u001b[49m\u001b[38;5;241;43m=\u001b[39;49m\u001b[43merrors\u001b[49m\u001b[43m,\u001b[49m\n\u001b[0;32m    878\u001b[0m \u001b[43m            \u001b[49m\u001b[43mnewline\u001b[49m\u001b[38;5;241;43m=\u001b[39;49m\u001b[38;5;124;43m\"\u001b[39;49m\u001b[38;5;124;43m\"\u001b[39;49m\u001b[43m,\u001b[49m\n\u001b[0;32m    879\u001b[0m \u001b[43m        \u001b[49m\u001b[43m)\u001b[49m\n\u001b[0;32m    880\u001b[0m     \u001b[38;5;28;01melse\u001b[39;00m:\n\u001b[0;32m    881\u001b[0m         \u001b[38;5;66;03m# Binary mode\u001b[39;00m\n\u001b[0;32m    882\u001b[0m         handle \u001b[38;5;241m=\u001b[39m \u001b[38;5;28mopen\u001b[39m(handle, ioargs\u001b[38;5;241m.\u001b[39mmode)\n",
      "\u001b[1;31mFileNotFoundError\u001b[0m: [Errno 2] No such file or directory: 'Book1.csv'"
     ]
    }
   ],
   "source": [
    "#reading the datasets\n",
    "data1 = pd.read_csv(\"Book1.csv\")\n",
    "data2 = pd.read_csv(\"Book2.csv\")"
   ]
  },
  {
   "cell_type": "code",
   "execution_count": 3,
   "metadata": {},
   "outputs": [
    {
     "data": {
      "text/html": [
       "<div>\n",
       "<style scoped>\n",
       "    .dataframe tbody tr th:only-of-type {\n",
       "        vertical-align: middle;\n",
       "    }\n",
       "\n",
       "    .dataframe tbody tr th {\n",
       "        vertical-align: top;\n",
       "    }\n",
       "\n",
       "    .dataframe thead th {\n",
       "        text-align: right;\n",
       "    }\n",
       "</style>\n",
       "<table border=\"1\" class=\"dataframe\">\n",
       "  <thead>\n",
       "    <tr style=\"text-align: right;\">\n",
       "      <th></th>\n",
       "      <th>Time</th>\n",
       "      <th>Indicator</th>\n",
       "      <th>Scale</th>\n",
       "      <th>A</th>\n",
       "      <th>A-</th>\n",
       "      <th>B+</th>\n",
       "      <th>B</th>\n",
       "      <th>B-</th>\n",
       "      <th>C+</th>\n",
       "      <th>C</th>\n",
       "      <th>C-</th>\n",
       "      <th>D+</th>\n",
       "      <th>D</th>\n",
       "      <th>D-</th>\n",
       "      <th>E</th>\n",
       "    </tr>\n",
       "  </thead>\n",
       "  <tbody>\n",
       "    <tr>\n",
       "      <th>0</th>\n",
       "      <td>Units</td>\n",
       "      <td>NaN</td>\n",
       "      <td>NaN</td>\n",
       "      <td>NaN</td>\n",
       "      <td>NaN</td>\n",
       "      <td>NaN</td>\n",
       "      <td>NaN</td>\n",
       "      <td>NaN</td>\n",
       "      <td>NaN</td>\n",
       "      <td>NaN</td>\n",
       "      <td>NaN</td>\n",
       "      <td>NaN</td>\n",
       "      <td>NaN</td>\n",
       "      <td>NaN</td>\n",
       "      <td>NaN</td>\n",
       "    </tr>\n",
       "    <tr>\n",
       "      <th>1</th>\n",
       "      <td>2018</td>\n",
       "      <td>KCSE Grade</td>\n",
       "      <td>units</td>\n",
       "      <td>315.0</td>\n",
       "      <td>3419.0</td>\n",
       "      <td>8298.0</td>\n",
       "      <td>16498.0</td>\n",
       "      <td>26347.0</td>\n",
       "      <td>36073.0</td>\n",
       "      <td>50041.0</td>\n",
       "      <td>71429.0</td>\n",
       "      <td>96865.0</td>\n",
       "      <td>148297.0</td>\n",
       "      <td>165351.0</td>\n",
       "      <td>30854.0</td>\n",
       "    </tr>\n",
       "    <tr>\n",
       "      <th>2</th>\n",
       "      <td>2019</td>\n",
       "      <td>KCSE Grade</td>\n",
       "      <td>units</td>\n",
       "      <td>631.0</td>\n",
       "      <td>5797.0</td>\n",
       "      <td>13367.0</td>\n",
       "      <td>24492.0</td>\n",
       "      <td>35378.0</td>\n",
       "      <td>46170.0</td>\n",
       "      <td>63157.0</td>\n",
       "      <td>83435.0</td>\n",
       "      <td>101793.0</td>\n",
       "      <td>137815.0</td>\n",
       "      <td>152402.0</td>\n",
       "      <td>29333.0</td>\n",
       "    </tr>\n",
       "    <tr>\n",
       "      <th>3</th>\n",
       "      <td>2020</td>\n",
       "      <td>KCSE Grade</td>\n",
       "      <td>units</td>\n",
       "      <td>893.0</td>\n",
       "      <td>6421.0</td>\n",
       "      <td>14427.0</td>\n",
       "      <td>25207.0</td>\n",
       "      <td>38196.0</td>\n",
       "      <td>57998.0</td>\n",
       "      <td>85459.0</td>\n",
       "      <td>109460.0</td>\n",
       "      <td>117889.0</td>\n",
       "      <td>121930.0</td>\n",
       "      <td>137343.0</td>\n",
       "      <td>28030.0</td>\n",
       "    </tr>\n",
       "    <tr>\n",
       "      <th>4</th>\n",
       "      <td>2021</td>\n",
       "      <td>KCSE Grade</td>\n",
       "      <td>units</td>\n",
       "      <td>1140.0</td>\n",
       "      <td>6060.0</td>\n",
       "      <td>13717.0</td>\n",
       "      <td>25236.0</td>\n",
       "      <td>39748.0</td>\n",
       "      <td>59875.0</td>\n",
       "      <td>81359.0</td>\n",
       "      <td>99435.0</td>\n",
       "      <td>116393.0</td>\n",
       "      <td>145994.0</td>\n",
       "      <td>187346.0</td>\n",
       "      <td>46198.0</td>\n",
       "    </tr>\n",
       "  </tbody>\n",
       "</table>\n",
       "</div>"
      ],
      "text/plain": [
       "    Time   Indicator  Scale       A      A-       B+        B       B-  \\\n",
       "0  Units         NaN    NaN     NaN     NaN      NaN      NaN      NaN   \n",
       "1   2018  KCSE Grade  units   315.0  3419.0   8298.0  16498.0  26347.0   \n",
       "2   2019  KCSE Grade  units   631.0  5797.0  13367.0  24492.0  35378.0   \n",
       "3   2020  KCSE Grade  units   893.0  6421.0  14427.0  25207.0  38196.0   \n",
       "4   2021  KCSE Grade  units  1140.0  6060.0  13717.0  25236.0  39748.0   \n",
       "\n",
       "        C+        C        C-        D+         D        D-        E  \n",
       "0      NaN      NaN       NaN       NaN       NaN       NaN      NaN  \n",
       "1  36073.0  50041.0   71429.0   96865.0  148297.0  165351.0  30854.0  \n",
       "2  46170.0  63157.0   83435.0  101793.0  137815.0  152402.0  29333.0  \n",
       "3  57998.0  85459.0  109460.0  117889.0  121930.0  137343.0  28030.0  \n",
       "4  59875.0  81359.0   99435.0  116393.0  145994.0  187346.0  46198.0  "
      ]
     },
     "execution_count": 3,
     "metadata": {},
     "output_type": "execute_result"
    }
   ],
   "source": [
    "#The first five rows of data\n",
    "data2.head()"
   ]
  },
  {
   "cell_type": "code",
   "execution_count": 4,
   "metadata": {},
   "outputs": [
    {
     "data": {
      "text/html": [
       "<div>\n",
       "<style scoped>\n",
       "    .dataframe tbody tr th:only-of-type {\n",
       "        vertical-align: middle;\n",
       "    }\n",
       "\n",
       "    .dataframe tbody tr th {\n",
       "        vertical-align: top;\n",
       "    }\n",
       "\n",
       "    .dataframe thead th {\n",
       "        text-align: right;\n",
       "    }\n",
       "</style>\n",
       "<table border=\"1\" class=\"dataframe\">\n",
       "  <thead>\n",
       "    <tr style=\"text-align: right;\">\n",
       "      <th></th>\n",
       "      <th>Time</th>\n",
       "      <th>Indicator</th>\n",
       "      <th>Scale</th>\n",
       "      <th>A</th>\n",
       "      <th>A-</th>\n",
       "      <th>B+</th>\n",
       "      <th>B</th>\n",
       "      <th>B-</th>\n",
       "      <th>C+</th>\n",
       "      <th>C</th>\n",
       "      <th>C-</th>\n",
       "      <th>D+</th>\n",
       "      <th>D</th>\n",
       "      <th>D-</th>\n",
       "      <th>E</th>\n",
       "    </tr>\n",
       "  </thead>\n",
       "  <tbody>\n",
       "    <tr>\n",
       "      <th>1</th>\n",
       "      <td>2018</td>\n",
       "      <td>KCSE Grade</td>\n",
       "      <td>units</td>\n",
       "      <td>315.0</td>\n",
       "      <td>3419.0</td>\n",
       "      <td>8298.0</td>\n",
       "      <td>16498.0</td>\n",
       "      <td>26347.0</td>\n",
       "      <td>36073.0</td>\n",
       "      <td>50041.0</td>\n",
       "      <td>71429.0</td>\n",
       "      <td>96865.0</td>\n",
       "      <td>148297.0</td>\n",
       "      <td>165351.0</td>\n",
       "      <td>30854.0</td>\n",
       "    </tr>\n",
       "    <tr>\n",
       "      <th>2</th>\n",
       "      <td>2019</td>\n",
       "      <td>KCSE Grade</td>\n",
       "      <td>units</td>\n",
       "      <td>631.0</td>\n",
       "      <td>5797.0</td>\n",
       "      <td>13367.0</td>\n",
       "      <td>24492.0</td>\n",
       "      <td>35378.0</td>\n",
       "      <td>46170.0</td>\n",
       "      <td>63157.0</td>\n",
       "      <td>83435.0</td>\n",
       "      <td>101793.0</td>\n",
       "      <td>137815.0</td>\n",
       "      <td>152402.0</td>\n",
       "      <td>29333.0</td>\n",
       "    </tr>\n",
       "    <tr>\n",
       "      <th>3</th>\n",
       "      <td>2020</td>\n",
       "      <td>KCSE Grade</td>\n",
       "      <td>units</td>\n",
       "      <td>893.0</td>\n",
       "      <td>6421.0</td>\n",
       "      <td>14427.0</td>\n",
       "      <td>25207.0</td>\n",
       "      <td>38196.0</td>\n",
       "      <td>57998.0</td>\n",
       "      <td>85459.0</td>\n",
       "      <td>109460.0</td>\n",
       "      <td>117889.0</td>\n",
       "      <td>121930.0</td>\n",
       "      <td>137343.0</td>\n",
       "      <td>28030.0</td>\n",
       "    </tr>\n",
       "    <tr>\n",
       "      <th>4</th>\n",
       "      <td>2021</td>\n",
       "      <td>KCSE Grade</td>\n",
       "      <td>units</td>\n",
       "      <td>1140.0</td>\n",
       "      <td>6060.0</td>\n",
       "      <td>13717.0</td>\n",
       "      <td>25236.0</td>\n",
       "      <td>39748.0</td>\n",
       "      <td>59875.0</td>\n",
       "      <td>81359.0</td>\n",
       "      <td>99435.0</td>\n",
       "      <td>116393.0</td>\n",
       "      <td>145994.0</td>\n",
       "      <td>187346.0</td>\n",
       "      <td>46198.0</td>\n",
       "    </tr>\n",
       "    <tr>\n",
       "      <th>5</th>\n",
       "      <td>2022</td>\n",
       "      <td>KCSE Grade</td>\n",
       "      <td>units</td>\n",
       "      <td>1159.0</td>\n",
       "      <td>6684.0</td>\n",
       "      <td>16075.0</td>\n",
       "      <td>31448.0</td>\n",
       "      <td>48921.0</td>\n",
       "      <td>70218.0</td>\n",
       "      <td>95370.0</td>\n",
       "      <td>119200.0</td>\n",
       "      <td>134705.0</td>\n",
       "      <td>155034.0</td>\n",
       "      <td>167322.0</td>\n",
       "      <td>30538.0</td>\n",
       "    </tr>\n",
       "  </tbody>\n",
       "</table>\n",
       "</div>"
      ],
      "text/plain": [
       "   Time   Indicator  Scale       A      A-       B+        B       B-  \\\n",
       "1  2018  KCSE Grade  units   315.0  3419.0   8298.0  16498.0  26347.0   \n",
       "2  2019  KCSE Grade  units   631.0  5797.0  13367.0  24492.0  35378.0   \n",
       "3  2020  KCSE Grade  units   893.0  6421.0  14427.0  25207.0  38196.0   \n",
       "4  2021  KCSE Grade  units  1140.0  6060.0  13717.0  25236.0  39748.0   \n",
       "5  2022  KCSE Grade  units  1159.0  6684.0  16075.0  31448.0  48921.0   \n",
       "\n",
       "        C+        C        C-        D+         D        D-        E  \n",
       "1  36073.0  50041.0   71429.0   96865.0  148297.0  165351.0  30854.0  \n",
       "2  46170.0  63157.0   83435.0  101793.0  137815.0  152402.0  29333.0  \n",
       "3  57998.0  85459.0  109460.0  117889.0  121930.0  137343.0  28030.0  \n",
       "4  59875.0  81359.0   99435.0  116393.0  145994.0  187346.0  46198.0  \n",
       "5  70218.0  95370.0  119200.0  134705.0  155034.0  167322.0  30538.0  "
      ]
     },
     "execution_count": 4,
     "metadata": {},
     "output_type": "execute_result"
    }
   ],
   "source": [
    "#The last five rows of the data\n",
    "data2.tail()"
   ]
  },
  {
   "cell_type": "markdown",
   "metadata": {},
   "source": [
    "# 3. Data Analysis\n",
    "\n",
    "The following steps are aimed at discovering patterns and relationships in the data."
   ]
  },
  {
   "cell_type": "markdown",
   "metadata": {},
   "source": [
    "* First, we look for unique values"
   ]
  },
  {
   "cell_type": "code",
   "execution_count": 5,
   "metadata": {},
   "outputs": [
    {
     "data": {
      "text/html": [
       "<div>\n",
       "<style scoped>\n",
       "    .dataframe tbody tr th:only-of-type {\n",
       "        vertical-align: middle;\n",
       "    }\n",
       "\n",
       "    .dataframe tbody tr th {\n",
       "        vertical-align: top;\n",
       "    }\n",
       "\n",
       "    .dataframe thead th {\n",
       "        text-align: right;\n",
       "    }\n",
       "</style>\n",
       "<table border=\"1\" class=\"dataframe\">\n",
       "  <thead>\n",
       "    <tr style=\"text-align: right;\">\n",
       "      <th></th>\n",
       "      <th>unique count</th>\n",
       "    </tr>\n",
       "  </thead>\n",
       "  <tbody>\n",
       "    <tr>\n",
       "      <th>Time</th>\n",
       "      <td>6</td>\n",
       "    </tr>\n",
       "    <tr>\n",
       "      <th>Indicator</th>\n",
       "      <td>1</td>\n",
       "    </tr>\n",
       "    <tr>\n",
       "      <th>Scale</th>\n",
       "      <td>1</td>\n",
       "    </tr>\n",
       "    <tr>\n",
       "      <th>A</th>\n",
       "      <td>5</td>\n",
       "    </tr>\n",
       "    <tr>\n",
       "      <th>A-</th>\n",
       "      <td>5</td>\n",
       "    </tr>\n",
       "    <tr>\n",
       "      <th>B+</th>\n",
       "      <td>5</td>\n",
       "    </tr>\n",
       "    <tr>\n",
       "      <th>B</th>\n",
       "      <td>5</td>\n",
       "    </tr>\n",
       "    <tr>\n",
       "      <th>B-</th>\n",
       "      <td>5</td>\n",
       "    </tr>\n",
       "    <tr>\n",
       "      <th>C+</th>\n",
       "      <td>5</td>\n",
       "    </tr>\n",
       "    <tr>\n",
       "      <th>C</th>\n",
       "      <td>5</td>\n",
       "    </tr>\n",
       "    <tr>\n",
       "      <th>C-</th>\n",
       "      <td>5</td>\n",
       "    </tr>\n",
       "    <tr>\n",
       "      <th>D+</th>\n",
       "      <td>5</td>\n",
       "    </tr>\n",
       "    <tr>\n",
       "      <th>D</th>\n",
       "      <td>5</td>\n",
       "    </tr>\n",
       "    <tr>\n",
       "      <th>D-</th>\n",
       "      <td>5</td>\n",
       "    </tr>\n",
       "    <tr>\n",
       "      <th>E</th>\n",
       "      <td>5</td>\n",
       "    </tr>\n",
       "  </tbody>\n",
       "</table>\n",
       "</div>"
      ],
      "text/plain": [
       "           unique count\n",
       "Time                  6\n",
       "Indicator             1\n",
       "Scale                 1\n",
       "A                     5\n",
       "A-                    5\n",
       "B+                    5\n",
       "B                     5\n",
       "B-                    5\n",
       "C+                    5\n",
       "C                     5\n",
       "C-                    5\n",
       "D+                    5\n",
       "D                     5\n",
       "D-                    5\n",
       "E                     5"
      ]
     },
     "execution_count": 5,
     "metadata": {},
     "output_type": "execute_result"
    }
   ],
   "source": [
    "#Checking for unique values in the data set\n",
    "dict = {}\n",
    "for i in list(data2.columns):\n",
    "    dict[i] = data2[i].value_counts().shape[0]\n",
    "\n",
    "pd.DataFrame(dict,index=[\"unique count\"]).transpose()"
   ]
  },
  {
   "cell_type": "code",
   "execution_count": 6,
   "metadata": {},
   "outputs": [
    {
     "data": {
      "text/html": [
       "<div>\n",
       "<style scoped>\n",
       "    .dataframe tbody tr th:only-of-type {\n",
       "        vertical-align: middle;\n",
       "    }\n",
       "\n",
       "    .dataframe tbody tr th {\n",
       "        vertical-align: top;\n",
       "    }\n",
       "\n",
       "    .dataframe thead th {\n",
       "        text-align: right;\n",
       "    }\n",
       "</style>\n",
       "<table border=\"1\" class=\"dataframe\">\n",
       "  <thead>\n",
       "    <tr style=\"text-align: right;\">\n",
       "      <th></th>\n",
       "      <th>unique count</th>\n",
       "    </tr>\n",
       "  </thead>\n",
       "  <tbody>\n",
       "    <tr>\n",
       "      <th>Time</th>\n",
       "      <td>6</td>\n",
       "    </tr>\n",
       "    <tr>\n",
       "      <th>Indicator</th>\n",
       "      <td>1</td>\n",
       "    </tr>\n",
       "    <tr>\n",
       "      <th>Scale</th>\n",
       "      <td>1</td>\n",
       "    </tr>\n",
       "    <tr>\n",
       "      <th>A</th>\n",
       "      <td>5</td>\n",
       "    </tr>\n",
       "    <tr>\n",
       "      <th>A-</th>\n",
       "      <td>5</td>\n",
       "    </tr>\n",
       "    <tr>\n",
       "      <th>B+</th>\n",
       "      <td>5</td>\n",
       "    </tr>\n",
       "    <tr>\n",
       "      <th>B</th>\n",
       "      <td>5</td>\n",
       "    </tr>\n",
       "    <tr>\n",
       "      <th>B-</th>\n",
       "      <td>5</td>\n",
       "    </tr>\n",
       "    <tr>\n",
       "      <th>C+</th>\n",
       "      <td>5</td>\n",
       "    </tr>\n",
       "    <tr>\n",
       "      <th>C</th>\n",
       "      <td>5</td>\n",
       "    </tr>\n",
       "    <tr>\n",
       "      <th>C-</th>\n",
       "      <td>5</td>\n",
       "    </tr>\n",
       "    <tr>\n",
       "      <th>D+</th>\n",
       "      <td>5</td>\n",
       "    </tr>\n",
       "    <tr>\n",
       "      <th>D</th>\n",
       "      <td>5</td>\n",
       "    </tr>\n",
       "    <tr>\n",
       "      <th>D-</th>\n",
       "      <td>5</td>\n",
       "    </tr>\n",
       "    <tr>\n",
       "      <th>E</th>\n",
       "      <td>5</td>\n",
       "    </tr>\n",
       "  </tbody>\n",
       "</table>\n",
       "</div>"
      ],
      "text/plain": [
       "           unique count\n",
       "Time                  6\n",
       "Indicator             1\n",
       "Scale                 1\n",
       "A                     5\n",
       "A-                    5\n",
       "B+                    5\n",
       "B                     5\n",
       "B-                    5\n",
       "C+                    5\n",
       "C                     5\n",
       "C-                    5\n",
       "D+                    5\n",
       "D                     5\n",
       "D-                    5\n",
       "E                     5"
      ]
     },
     "execution_count": 6,
     "metadata": {},
     "output_type": "execute_result"
    }
   ],
   "source": [
    "#now for the other data set\n",
    "#Checking for unique values in the data set\n",
    "dict1 = {}\n",
    "for i in list(data1.columns):\n",
    "    dict1[i] = data1[i].value_counts().shape[0]\n",
    "\n",
    "pd.DataFrame(dict,index=[\"unique count\"]).transpose()\n",
    "\n",
    "dict2 = {}\n",
    "for i in list(data2.columns):\n",
    "    dict2[i] = data2[i].value_counts().shape[0]\n",
    "\n",
    "pd.DataFrame(dict,index=[\"unique count\"]).transpose()"
   ]
  },
  {
   "cell_type": "code",
   "execution_count": 7,
   "metadata": {},
   "outputs": [
    {
     "name": "stdout",
     "output_type": "stream",
     "text": [
      "<class 'pandas.core.frame.DataFrame'>\n",
      "RangeIndex: 36 entries, 0 to 35\n",
      "Data columns (total 8 columns):\n",
      " #   Column      Non-Null Count  Dtype  \n",
      "---  ------      --------------  -----  \n",
      " 0   Unnamed: 0  25 non-null     object \n",
      " 1   Unnamed: 1  25 non-null     object \n",
      " 2   Unnamed: 2  25 non-null     float64\n",
      " 3   Unnamed: 3  25 non-null     float64\n",
      " 4   Unnamed: 4  25 non-null     float64\n",
      " 5   Unnamed: 5  25 non-null     float64\n",
      " 6   Unnamed: 6  25 non-null     float64\n",
      " 7   Unnamed: 7  0 non-null      float64\n",
      "dtypes: float64(6), object(2)\n",
      "memory usage: 2.4+ KB\n",
      "<class 'pandas.core.frame.DataFrame'>\n",
      "RangeIndex: 6 entries, 0 to 5\n",
      "Data columns (total 15 columns):\n",
      " #   Column     Non-Null Count  Dtype  \n",
      "---  ------     --------------  -----  \n",
      " 0   Time       6 non-null      object \n",
      " 1   Indicator  5 non-null      object \n",
      " 2   Scale      5 non-null      object \n",
      " 3   A          5 non-null      float64\n",
      " 4   A-         5 non-null      float64\n",
      " 5   B+         5 non-null      float64\n",
      " 6   B          5 non-null      float64\n",
      " 7   B-         5 non-null      float64\n",
      " 8   C+         5 non-null      float64\n",
      " 9   C          5 non-null      float64\n",
      " 10  C-         5 non-null      float64\n",
      " 11  D+         5 non-null      float64\n",
      " 12  D          5 non-null      float64\n",
      " 13  D-         5 non-null      float64\n",
      " 14  E          5 non-null      float64\n",
      "dtypes: float64(12), object(3)\n",
      "memory usage: 852.0+ bytes\n"
     ]
    }
   ],
   "source": [
    "#next, we identify the data type of each column\n",
    "data1.info()\n",
    "data2.info()"
   ]
  },
  {
   "cell_type": "markdown",
   "metadata": {},
   "source": [
    "* Next, we convert all columns with the data type 'object' to the data type 'category'. This helps reduce memory usage."
   ]
  },
  {
   "cell_type": "code",
   "execution_count": 8,
   "metadata": {},
   "outputs": [],
   "source": [
    "data1['Unnamed: 0'] = data1['Unnamed: 0'].astype('category')\n",
    "data1['Unnamed: 1'] = data1['Unnamed: 1'].astype('category')\n",
    "data2['Time'] = data2['Time'].astype('category')\n",
    "data2['Indicator'] = data2['Indicator'].astype('category')\n",
    "data2['Scale'] = data2['Scale'].astype('category')"
   ]
  },
  {
   "cell_type": "code",
   "execution_count": 9,
   "metadata": {},
   "outputs": [
    {
     "name": "stdout",
     "output_type": "stream",
     "text": [
      "<class 'pandas.core.frame.DataFrame'>\n",
      "RangeIndex: 36 entries, 0 to 35\n",
      "Data columns (total 8 columns):\n",
      " #   Column      Non-Null Count  Dtype   \n",
      "---  ------      --------------  -----   \n",
      " 0   Unnamed: 0  25 non-null     category\n",
      " 1   Unnamed: 1  25 non-null     category\n",
      " 2   Unnamed: 2  25 non-null     float64 \n",
      " 3   Unnamed: 3  25 non-null     float64 \n",
      " 4   Unnamed: 4  25 non-null     float64 \n",
      " 5   Unnamed: 5  25 non-null     float64 \n",
      " 6   Unnamed: 6  25 non-null     float64 \n",
      " 7   Unnamed: 7  0 non-null      float64 \n",
      "dtypes: category(2), float64(6)\n",
      "memory usage: 2.7 KB\n",
      "<class 'pandas.core.frame.DataFrame'>\n",
      "RangeIndex: 6 entries, 0 to 5\n",
      "Data columns (total 15 columns):\n",
      " #   Column     Non-Null Count  Dtype   \n",
      "---  ------     --------------  -----   \n",
      " 0   Time       6 non-null      category\n",
      " 1   Indicator  5 non-null      category\n",
      " 2   Scale      5 non-null      category\n",
      " 3   A          5 non-null      float64 \n",
      " 4   A-         5 non-null      float64 \n",
      " 5   B+         5 non-null      float64 \n",
      " 6   B          5 non-null      float64 \n",
      " 7   B-         5 non-null      float64 \n",
      " 8   C+         5 non-null      float64 \n",
      " 9   C          5 non-null      float64 \n",
      " 10  C-         5 non-null      float64 \n",
      " 11  D+         5 non-null      float64 \n",
      " 12  D          5 non-null      float64 \n",
      " 13  D-         5 non-null      float64 \n",
      " 14  E          5 non-null      float64 \n",
      "dtypes: category(3), float64(12)\n",
      "memory usage: 1.2 KB\n"
     ]
    }
   ],
   "source": [
    "#lets confirm the chnages\n",
    "data1.info()\n",
    "data2.info()"
   ]
  },
  {
   "cell_type": "markdown",
   "metadata": {},
   "source": [
    "* Hadling missing values"
   ]
  },
  {
   "cell_type": "code",
   "execution_count": 10,
   "metadata": {},
   "outputs": [
    {
     "data": {
      "text/plain": [
       "Time         0\n",
       "Indicator    1\n",
       "Scale        1\n",
       "A            1\n",
       "A-           1\n",
       "B+           1\n",
       "B            1\n",
       "B-           1\n",
       "C+           1\n",
       "C            1\n",
       "C-           1\n",
       "D+           1\n",
       "D            1\n",
       "D-           1\n",
       "E            1\n",
       "dtype: int64"
      ]
     },
     "execution_count": 10,
     "metadata": {},
     "output_type": "execute_result"
    }
   ],
   "source": [
    "#checking for missing values\n",
    "data1.isnull().sum()\n",
    "data2.isnull().sum()"
   ]
  },
  {
   "cell_type": "code",
   "execution_count": 11,
   "metadata": {},
   "outputs": [
    {
     "data": {
      "text/plain": [
       "Time         0\n",
       "Indicator    0\n",
       "Scale        0\n",
       "A            0\n",
       "A-           0\n",
       "B+           0\n",
       "B            0\n",
       "B-           0\n",
       "C+           0\n",
       "C            0\n",
       "C-           0\n",
       "D+           0\n",
       "D            0\n",
       "D-           0\n",
       "E            0\n",
       "dtype: int64"
      ]
     },
     "execution_count": 11,
     "metadata": {},
     "output_type": "execute_result"
    }
   ],
   "source": [
    "#dropping th e columns with missing values\n",
    "data1.dropna(inplace=True)\n",
    "data2.dropna(inplace=True)\n",
    "data1.isnull().sum()\n",
    "data2.isnull().sum()"
   ]
  },
  {
   "cell_type": "code",
   "execution_count": 12,
   "metadata": {},
   "outputs": [
    {
     "name": "stdout",
     "output_type": "stream",
     "text": [
      "Index(['Time', 'Indicator', 'Scale', 'A', 'A-', 'B+', 'B', 'B-', 'C+', 'C',\n",
      "       'C-', 'D+', 'D', 'D-', 'E'],\n",
      "      dtype='object')\n"
     ]
    }
   ],
   "source": [
    "print(data2.columns)\n"
   ]
  },
  {
   "cell_type": "code",
   "execution_count": 13,
   "metadata": {},
   "outputs": [
    {
     "data": {
      "image/png": "[encoded data removed]",
      "text/plain": [
       "<Figure size 1200x600 with 1 Axes>"
      ]
     },
     "metadata": {},
     "output_type": "display_data"
    }
   ],
   "source": [
    "# we will then visualize the distribution of grades each year.\n",
    "df = pd.read_csv('Book2.csv')\n",
    "years = df['Time'].astype(str).tolist()\n",
    "grades = {\n",
    "    'A' : df['A'].tolist(),\n",
    "    'A-' : df['A-'].tolist(),\n",
    "    'B+' : df['B+'].tolist(),\n",
    "    'B' : df['B'].tolist(),\n",
    "    'B-' : df['B-'].tolist(),\n",
    "    'C+' : df['C+'].tolist(),\n",
    "    'C' : df['C'].tolist(),\n",
    "    'C-' : df['C-'].tolist(),\n",
    "    'D+' : df['D+'].tolist(),\n",
    "    'D' : df['D'].tolist(),\n",
    "    'D-' : df['D-'].tolist(),\n",
    "    'E' : df['E'].tolist()\n",
    "}\n",
    "bar_width = 0.1\n",
    "positions = range(len(years))\n",
    "fig, ax = plt.subplots(figsize=(12,6))\n",
    "for i,(grade, counts) in enumerate(grades.items()):\n",
    "    ax.bar([p + i *bar_width for p in positions],counts,width=bar_width,\n",
    "            label = grade) \n",
    "    \n",
    "ax.set_xticks([p + 2*bar_width for p in positions])\n",
    "ax.set_xticklabels(years, rotation=45,ha='right')\n",
    "ax.set_xlabel('Year')\n",
    "ax.set_ylabel('Number of Students')\n",
    "ax.set_title('Grade Distribution')\n",
    "ax.legend(title='Grades')\n",
    "plt.tight_layout()\n",
    "plt.show()"
   ]
  },
  {
   "cell_type": "code",
   "execution_count": 14,
   "metadata": {},
   "outputs": [
    {
     "name": "stderr",
     "output_type": "stream",
     "text": [
      "No artists with labels found to put in legend.  Note that artists whose label start with an underscore are ignored when legend() is called with no argument.\n"
     ]
    },
    {
     "data": {
      "image/png": "[encoded data removed]",
      "text/plain": [
       "<Figure size 1000x600 with 1 Axes>"
      ]
     },
     "metadata": {},
     "output_type": "display_data"
    }
   ],
   "source": [
    "# next let us visualize the number of students who qaulified for university\n",
    "# from the five years\n",
    "\n",
    "df = pd.read_csv('Book2.csv')\n",
    "df['Total'] = df[['A','A-','B+','B','B-','C+','C']].sum(axis=1)\n",
    "years = df['Time'].astype(str).tolist()\n",
    "totals = df['Total'].tolist()\n",
    "bar_width = 0.1\n",
    "positions = range(len(years))\n",
    "fig, ax = plt.subplots(figsize=(10,6))\n",
    "ax.bar(years, totals,color='skyblue')\n",
    "    \n",
    "ax.set_xticks([p + 2*bar_width for p in positions])\n",
    "ax.set_xticklabels(years, rotation=45,ha='right')\n",
    "ax.set_xlabel('Year')\n",
    "ax.set_ylabel('Number of Students')\n",
    "ax.set_title('Grade Distribution')\n",
    "ax.legend(title='Grades')\n",
    "plt.tight_layout()\n",
    "plt.show() "
   ]
  },
  {
   "cell_type": "code",
   "execution_count": 15,
   "metadata": {},
   "outputs": [
    {
     "data": {
      "image/png": "[encoded data removed]",
      "text/plain": [
       "<Figure size 640x480 with 1 Axes>"
      ]
     },
     "metadata": {},
     "output_type": "display_data"
    }
   ],
   "source": [
    "#let us show the relationship between the number of students \n",
    "# who qualified each year and those who reported\n",
    "\n",
    "year = ['2018', '2019', '2020', '2021', '2022']\n",
    "sales = [140000, 180000, 220000, 218000, 260000]\n",
    "revenue = [132000, 175000, 200000, 210000, 240000]\n",
    "\n",
    "\n",
    "x = np.arange(len(year))\n",
    "width = 0.35  \n",
    "\n",
    "\n",
    "fig, ax = plt.subplots()\n",
    "\n",
    "\n",
    "bars1 = ax.bar(x - width/2, sales, width, label='Qualified')\n",
    "bars2 = ax.bar(x + width/2, revenue, width, label='Reported')\n",
    "\n",
    "\n",
    "ax.set_xlabel('Year')\n",
    "ax.set_ylabel('Number of Students')\n",
    "ax.set_title('Comparison of Qualified Student and Students who Reported')\n",
    "ax.set_xticks(x)\n",
    "ax.set_xticklabels(year)\n",
    "ax.legend()\n",
    "\n",
    "# Optionally, add value labels on the bars\n",
    "def add_value_labels(bars):\n",
    "    for bar in bars:\n",
    "        height = bar.get_height()\n",
    "        ax.annotate(f'{height}',\n",
    "                    xy=(bar.get_x() + bar.get_width() / 2, height),\n",
    "                    xytext=(0, 3),  # 3 points vertical offset\n",
    "                    textcoords='offset points',\n",
    "                    ha='center', va='bottom')\n",
    "\n",
    "add_value_labels(bars1)\n",
    "add_value_labels(bars2)\n",
    "\n",
    "# Show the plot\n",
    "plt.tight_layout()\n",
    "plt.show()"
   ]
  },
  {
   "cell_type": "markdown",
   "metadata": {},
   "source": [
    "# Data Preprocessing\n",
    "We do this to preoare it for model training"
   ]
  },
  {
   "cell_type": "markdown",
   "metadata": {},
   "source": [
    "* Handling Outliers.\n",
    "These are data points with extreme values. They usually occur uring data entry.\n",
    "We handle outliers using the Interquartile Range (IQR) method."
   ]
  },
  {
   "cell_type": "code",
   "execution_count": 16,
   "metadata": {},
   "outputs": [
    {
     "data": {
      "text/plain": [
       "<Axes: >"
      ]
     },
     "execution_count": 16,
     "metadata": {},
     "output_type": "execute_result"
    },
    {
     "data": {
      "image/png": "[encoded data removed]",
      "text/plain": [
       "<Figure size 1000x600 with 1 Axes>"
      ]
     },
     "metadata": {},
     "output_type": "display_data"
    }
   ],
   "source": [
    "# First, we check for outliers\n",
    "plt.figure(figsize=(10,6))\n",
    "sns.boxplot(sales,orient=\"h\")"
   ]
  },
  {
   "cell_type": "markdown",
   "metadata": {},
   "source": [
    "Our data does not have any outliers.\n"
   ]
  },
  {
   "cell_type": "markdown",
   "metadata": {},
   "source": [
    "* Checking for skewness in numerical data\n"
   ]
  },
  {
   "cell_type": "markdown",
   "metadata": {},
   "source": [
    "Skewed data impacts the performance of some ML models negatively. \n",
    "This is especially the case when using linear regression where we assume a normal distribution. \n",
    "We can handle skewness using the  Box Cox transformation."
   ]
  },
  {
   "cell_type": "code",
   "execution_count": 21,
   "metadata": {},
   "outputs": [
    {
     "data": {
      "text/plain": [
       "Index(['Time', 'Indicator', 'Scale', 'A', 'A-', 'B+', 'B', 'B-', 'C+', 'C',\n",
       "       'C-', 'D+', 'D', 'D-', 'E'],\n",
       "      dtype='object')"
      ]
     },
     "execution_count": 21,
     "metadata": {},
     "output_type": "execute_result"
    }
   ],
   "source": [
    "data2.columns"
   ]
  },
  {
   "cell_type": "markdown",
   "metadata": {},
   "source": [
    "# Modelling"
   ]
  },
  {
   "cell_type": "code",
   "execution_count": null,
   "metadata": {},
   "outputs": [],
   "source": [
    "#convert the data from columns in Book2.csv to a dataframe\n",
    "data = {\n",
    "    'Year':[2018, 2019, 2020, 2021, 2022],\n",
    "    'A_Count':[315,631,893,1140,1159],\n",
    "    'A-_Count':[3419, 5797, 6421, 6060, 6481],\n",
    "    'B+_Count': [8298, 13367, 14427, 13717, 16075],\n",
    "    'B_Count':[16498, 24492, 25207, 25236, 31448],\n",
    "    'B-_Count':[26347, 35378,38196,39,748,48921],\n",
    "    'C+_Count': [36073, 46170, 57998,59875,70218],\n",
    "    'C_Count':[50041,63157,85459,81359,95370],\n",
    "    'Course_Placement': ['Business', 'Medicine', 'Arts',\n",
    "                         'Engineering', 'Medicine'] \n",
    "\n",
    "}\n",
    "df = pd.DataFrame(data)\n",
    "\n",
    "#Encoding the target variable, in this case, Course_Placement\n",
    "le = LabelEncoder()\n",
    "df['Course_Placement'] = le.fit_transform(df['Course_Placement'])\n",
    "\n",
    "#Next we deal with the features(grade counts)\n",
    "X = df[['A_Count', 'A-_Count', 'B+_Count', 'B_Count', 'B-_Count','C+_Count', 'C_Count' ]]\n",
    "y = df['Course_Placement']\n",
    "\n",
    "#Let's split the data\n",
    "X_train, X_test, y_train, y_test = train_test_split(X,y,test_size=0.2,random_state=42)\n",
    "\n",
    "#Next, we initialize and train a model, for this case, a Random Forest.\n",
    "model = RandomForestClassifier(random_state=42)\n",
    "model.fit(X_train,y_train)\n",
    "\n",
    "#Let's make predictions\n",
    "y_pred = model.predict(X_test)\n",
    "\n",
    "#Finall, we evaluate the model\n",
    "print(classification_report(y_test,y_pred, target_names=le.classes_))\n",
    "\n"
   ]
  }
 ],
 "metadata": {
  "kernelspec": {
   "display_name": "Python 3",
   "language": "python",
   "name": "python3"
  },
  "language_info": {
   "codemirror_mode": {
    "name": "ipython",
    "version": 3
   },
   "file_extension": ".py",
   "mimetype": "text/x-python",
   "name": "python",
   "nbconvert_exporter": "python",
   "pygments_lexer": "ipython3",
   "version": "3.12.4"
  }
 },
 "nbformat": 4,
 "nbformat_minor": 2
}
